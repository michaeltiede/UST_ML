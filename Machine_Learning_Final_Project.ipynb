{
  "nbformat": 4,
  "nbformat_minor": 0,
  "metadata": {
    "colab": {
      "provenance": [],
      "include_colab_link": true
    },
    "kernelspec": {
      "name": "python3",
      "display_name": "Python 3"
    },
    "language_info": {
      "name": "python"
    }
  },
  "cells": [
    {
      "cell_type": "markdown",
      "metadata": {
        "id": "view-in-github",
        "colab_type": "text"
      },
      "source": [
        "<a href=\"https://colab.research.google.com/github/michaeltiede/UST_ML/blob/main/Machine_Learning_Final_Project.ipynb\" target=\"_parent\"><img src=\"https://colab.research.google.com/assets/colab-badge.svg\" alt=\"Open In Colab\"/></a>"
      ]
    },
    {
      "cell_type": "code",
      "execution_count": null,
      "metadata": {
        "id": "gqVNGnpvWEiL",
        "colab": {
          "base_uri": "https://localhost:8080/",
          "height": 440
        },
        "outputId": "c2809c31-6655-40b9-b628-e2ea208a317d"
      },
      "outputs": [
        {
          "data": {
            "text/html": [
              "\n",
              "     <input type=\"file\" id=\"files-0b2fde12-872b-4ee0-b7bd-0921ac3473ce\" name=\"files[]\" multiple disabled\n",
              "        style=\"border:none\" />\n",
              "     <output id=\"result-0b2fde12-872b-4ee0-b7bd-0921ac3473ce\">\n",
              "      Upload widget is only available when the cell has been executed in the\n",
              "      current browser session. Please rerun this cell to enable.\n",
              "      </output>\n",
              "      <script>// Copyright 2017 Google LLC\n",
              "//\n",
              "// Licensed under the Apache License, Version 2.0 (the \"License\");\n",
              "// you may not use this file except in compliance with the License.\n",
              "// You may obtain a copy of the License at\n",
              "//\n",
              "//      http://www.apache.org/licenses/LICENSE-2.0\n",
              "//\n",
              "// Unless required by applicable law or agreed to in writing, software\n",
              "// distributed under the License is distributed on an \"AS IS\" BASIS,\n",
              "// WITHOUT WARRANTIES OR CONDITIONS OF ANY KIND, either express or implied.\n",
              "// See the License for the specific language governing permissions and\n",
              "// limitations under the License.\n",
              "\n",
              "/**\n",
              " * @fileoverview Helpers for google.colab Python module.\n",
              " */\n",
              "(function(scope) {\n",
              "function span(text, styleAttributes = {}) {\n",
              "  const element = document.createElement('span');\n",
              "  element.textContent = text;\n",
              "  for (const key of Object.keys(styleAttributes)) {\n",
              "    element.style[key] = styleAttributes[key];\n",
              "  }\n",
              "  return element;\n",
              "}\n",
              "\n",
              "// Max number of bytes which will be uploaded at a time.\n",
              "const MAX_PAYLOAD_SIZE = 100 * 1024;\n",
              "\n",
              "function _uploadFiles(inputId, outputId) {\n",
              "  const steps = uploadFilesStep(inputId, outputId);\n",
              "  const outputElement = document.getElementById(outputId);\n",
              "  // Cache steps on the outputElement to make it available for the next call\n",
              "  // to uploadFilesContinue from Python.\n",
              "  outputElement.steps = steps;\n",
              "\n",
              "  return _uploadFilesContinue(outputId);\n",
              "}\n",
              "\n",
              "// This is roughly an async generator (not supported in the browser yet),\n",
              "// where there are multiple asynchronous steps and the Python side is going\n",
              "// to poll for completion of each step.\n",
              "// This uses a Promise to block the python side on completion of each step,\n",
              "// then passes the result of the previous step as the input to the next step.\n",
              "function _uploadFilesContinue(outputId) {\n",
              "  const outputElement = document.getElementById(outputId);\n",
              "  const steps = outputElement.steps;\n",
              "\n",
              "  const next = steps.next(outputElement.lastPromiseValue);\n",
              "  return Promise.resolve(next.value.promise).then((value) => {\n",
              "    // Cache the last promise value to make it available to the next\n",
              "    // step of the generator.\n",
              "    outputElement.lastPromiseValue = value;\n",
              "    return next.value.response;\n",
              "  });\n",
              "}\n",
              "\n",
              "/**\n",
              " * Generator function which is called between each async step of the upload\n",
              " * process.\n",
              " * @param {string} inputId Element ID of the input file picker element.\n",
              " * @param {string} outputId Element ID of the output display.\n",
              " * @return {!Iterable<!Object>} Iterable of next steps.\n",
              " */\n",
              "function* uploadFilesStep(inputId, outputId) {\n",
              "  const inputElement = document.getElementById(inputId);\n",
              "  inputElement.disabled = false;\n",
              "\n",
              "  const outputElement = document.getElementById(outputId);\n",
              "  outputElement.innerHTML = '';\n",
              "\n",
              "  const pickedPromise = new Promise((resolve) => {\n",
              "    inputElement.addEventListener('change', (e) => {\n",
              "      resolve(e.target.files);\n",
              "    });\n",
              "  });\n",
              "\n",
              "  const cancel = document.createElement('button');\n",
              "  inputElement.parentElement.appendChild(cancel);\n",
              "  cancel.textContent = 'Cancel upload';\n",
              "  const cancelPromise = new Promise((resolve) => {\n",
              "    cancel.onclick = () => {\n",
              "      resolve(null);\n",
              "    };\n",
              "  });\n",
              "\n",
              "  // Wait for the user to pick the files.\n",
              "  const files = yield {\n",
              "    promise: Promise.race([pickedPromise, cancelPromise]),\n",
              "    response: {\n",
              "      action: 'starting',\n",
              "    }\n",
              "  };\n",
              "\n",
              "  cancel.remove();\n",
              "\n",
              "  // Disable the input element since further picks are not allowed.\n",
              "  inputElement.disabled = true;\n",
              "\n",
              "  if (!files) {\n",
              "    return {\n",
              "      response: {\n",
              "        action: 'complete',\n",
              "      }\n",
              "    };\n",
              "  }\n",
              "\n",
              "  for (const file of files) {\n",
              "    const li = document.createElement('li');\n",
              "    li.append(span(file.name, {fontWeight: 'bold'}));\n",
              "    li.append(span(\n",
              "        `(${file.type || 'n/a'}) - ${file.size} bytes, ` +\n",
              "        `last modified: ${\n",
              "            file.lastModifiedDate ? file.lastModifiedDate.toLocaleDateString() :\n",
              "                                    'n/a'} - `));\n",
              "    const percent = span('0% done');\n",
              "    li.appendChild(percent);\n",
              "\n",
              "    outputElement.appendChild(li);\n",
              "\n",
              "    const fileDataPromise = new Promise((resolve) => {\n",
              "      const reader = new FileReader();\n",
              "      reader.onload = (e) => {\n",
              "        resolve(e.target.result);\n",
              "      };\n",
              "      reader.readAsArrayBuffer(file);\n",
              "    });\n",
              "    // Wait for the data to be ready.\n",
              "    let fileData = yield {\n",
              "      promise: fileDataPromise,\n",
              "      response: {\n",
              "        action: 'continue',\n",
              "      }\n",
              "    };\n",
              "\n",
              "    // Use a chunked sending to avoid message size limits. See b/62115660.\n",
              "    let position = 0;\n",
              "    do {\n",
              "      const length = Math.min(fileData.byteLength - position, MAX_PAYLOAD_SIZE);\n",
              "      const chunk = new Uint8Array(fileData, position, length);\n",
              "      position += length;\n",
              "\n",
              "      const base64 = btoa(String.fromCharCode.apply(null, chunk));\n",
              "      yield {\n",
              "        response: {\n",
              "          action: 'append',\n",
              "          file: file.name,\n",
              "          data: base64,\n",
              "        },\n",
              "      };\n",
              "\n",
              "      let percentDone = fileData.byteLength === 0 ?\n",
              "          100 :\n",
              "          Math.round((position / fileData.byteLength) * 100);\n",
              "      percent.textContent = `${percentDone}% done`;\n",
              "\n",
              "    } while (position < fileData.byteLength);\n",
              "  }\n",
              "\n",
              "  // All done.\n",
              "  yield {\n",
              "    response: {\n",
              "      action: 'complete',\n",
              "    }\n",
              "  };\n",
              "}\n",
              "\n",
              "scope.google = scope.google || {};\n",
              "scope.google.colab = scope.google.colab || {};\n",
              "scope.google.colab._files = {\n",
              "  _uploadFiles,\n",
              "  _uploadFilesContinue,\n",
              "};\n",
              "})(self);\n",
              "</script> "
            ],
            "text/plain": [
              "<IPython.core.display.HTML object>"
            ]
          },
          "metadata": {},
          "output_type": "display_data"
        }
      ],
      "source": [
        "#Upload the file\n",
        "from google.colab import files\n",
        "uploaded=files.upload()\n",
        "\n"
      ]
    },
    {
      "cell_type": "code",
      "execution_count": null,
      "metadata": {
        "id": "9e330906"
      },
      "outputs": [],
      "source": [
        "#Import the necessary packages\n",
        "import csv\n",
        "import numpy as np\n",
        "import pandas as pd\n",
        "import statsmodels.api as sm\n",
        "from sklearn import preprocessing\n",
        "from sklearn import linear_model\n",
        "from sklearn.linear_model import LogisticRegressionCV, Lasso\n",
        "from sklearn.model_selection import train_test_split\n",
        "from sklearn.metrics import mean_squared_error\n",
        "from sklearn import svm\n",
        "import matplotlib.pyplot as plt\n",
        "from sklearn.linear_model import LassoCV, LassoLarsCV\n",
        "from sklearn.metrics import roc_curve, roc_auc_score, precision_recall_curve, confusion_matrix,auc, accuracy_score\n",
        "from sklearn.metrics import classification_report\n",
        "\n",
        "        "
      ]
    },
    {
      "cell_type": "code",
      "source": [
        "#Import the data\n",
        "csvf =csv.reader(open('Diabetes Group Project Data.csv','r'))\n",
        "\n",
        "\n",
        "#Standardize the data\n",
        "df = pd.read_csv(r'Diabetes Group Project Data.csv')\n",
        "\n",
        "#Replace missing values with the column average\n",
        "mean_Glucose = df['Glucose'].mean()\n",
        "df = df.replace({'Glucose': {0:mean_Glucose}})\n",
        "\n",
        "mean_BloodPressure = df['BloodPressure'].mean()\n",
        "df = df.replace({'BloodPressure': {0:mean_BloodPressure}})\n",
        "\n",
        "mean_SkinThickness = df['SkinThickness'].mean()\n",
        "df = df.replace({'SkinThickness': {0:mean_SkinThickness}})\n",
        "\n",
        "mean_Insulin = df['Insulin'].mean()\n",
        "df = df.replace({'Insulin': {0:mean_Insulin}})\n",
        "\n",
        "mean_BMI = df['BMI'].mean()\n",
        "df = df.replace({'BMI': {0:mean_BMI}})\n",
        "\n",
        "mean_Age = df['Age'].mean()\n",
        "df = df.replace({'Age': {0:mean_Age}})\n",
        "\n",
        "\n",
        "df['Pregnancies'] = preprocessing.scale(df['Pregnancies'])\n",
        "df ['Glucose'] = preprocessing.scale(df['Glucose'])\n",
        "df['BloodPressure']= preprocessing.scale(df['BloodPressure'])\n",
        "df['SkinThickness'] = preprocessing.scale (df['SkinThickness'])\n",
        "df['Insulin'] = preprocessing.scale (df['Insulin'])\n",
        "df['BMI'] = preprocessing.scale (df['BMI'])\n",
        "df['Age'] = preprocessing.scale (df['Age'])\n",
        "\n",
        "#Add the data to the proper variables\n",
        "\n",
        "Y = df['Outcome']\n",
        "\n",
        "df = df.drop(['Outcome'],axis=1)\n",
        "\n",
        "X = pd.concat([df],axis=1)\n",
        "\n",
        "\n",
        "print (X.shape, Y.shape) \n",
        "\n",
        "df.head()\n",
        "\n"
      ],
      "metadata": {
        "colab": {
          "base_uri": "https://localhost:8080/"
        },
        "id": "BhiRYDrG7Vjo",
        "outputId": "23f85044-ebe2-4ea4-8862-8773748d59a4"
      },
      "execution_count": null,
      "outputs": [
        {
          "output_type": "stream",
          "name": "stdout",
          "text": [
            "(768, 8) (768,)\n"
          ]
        }
      ]
    },
    {
      "cell_type": "code",
      "source": [
        "#Linear SVM model\n",
        "\n",
        "alf = svm.SVC (kernel = 'linear', C=1000, probability = True)\n",
        "alf.fit(X,Y)\n",
        "\n",
        "print(alf.n_support_) #number of support vectors for this model\n",
        "\n",
        "func = alf.predict(X)\n",
        "#print(func)\n",
        "g = alf.decision_function(X)\n",
        "#print(g)\n",
        "\n",
        "\n",
        "       \n",
        "\n",
        "allresults = alf.predict_proba(X)\n",
        "\n",
        "scores = classification_report(Y,func)\n",
        "\n",
        "print(scores)"
      ],
      "metadata": {
        "colab": {
          "base_uri": "https://localhost:8080/"
        },
        "id": "A2gULUqF7fcC",
        "outputId": "d8d0a98c-0d52-4e91-b04e-11c43e7a8810"
      },
      "execution_count": null,
      "outputs": [
        {
          "output_type": "stream",
          "name": "stdout",
          "text": [
            "[199 198]\n",
            "              precision    recall  f1-score   support\n",
            "\n",
            "           0       0.79      0.88      0.83       500\n",
            "           1       0.72      0.56      0.63       268\n",
            "\n",
            "    accuracy                           0.77       768\n",
            "   macro avg       0.76      0.72      0.73       768\n",
            "weighted avg       0.77      0.77      0.76       768\n",
            "\n"
          ]
        }
      ]
    },
    {
      "cell_type": "code",
      "source": [
        "#RBF Models to find best model\n",
        "\n",
        "blf = svm.SVC (kernel = 'rbf', C=0.01, gamma = 1, probability = True)\n",
        "blf.fit(X,Y)\n",
        "\n",
        "clf = svm.SVC (kernel = 'rbf', C=0.001, gamma = 1, probability = True )\n",
        "clf.fit(X,Y)\n",
        "\n",
        "dlf = svm.SVC (kernel = 'rbf', C=1.0, gamma = 1 ,probability = True )\n",
        "dlf.fit(X,Y)\n",
        "\n",
        "elf = svm.SVC (kernel = 'rbf', C=5.0, gamma = 1 , probability = True)\n",
        "elf.fit(X,Y)\n",
        "\n",
        "flf = svm.SVC (kernel = 'rbf', C=1.0, gamma = 0.005 ,probability = True )\n",
        "flf.fit(X,Y)\n",
        "\n",
        "glf = svm.SVC (kernel = 'rbf', C=1.0, gamma = 0.05, probability = True )\n",
        "glf.fit(X,Y)\n",
        "\n",
        "hlf = svm.SVC (kernel = 'rbf', C=1.0, gamma = 0.5, probability = True )\n",
        "hlf.fit(X,Y)\n",
        "\n",
        "ilf = svm.SVC (kernel = 'rbf', C=1.0, gamma = 3, probability = True )\n",
        "ilf.fit(X,Y)\n",
        "\n",
        "\n",
        "\n",
        "bfunc = blf.predict(X)\n",
        "bscores = classification_report(Y,bfunc)\n",
        "print(bscores)\n",
        "\n",
        "\n",
        "cfunc = clf.predict(X)\n",
        "cscores = classification_report(Y,cfunc)\n",
        "print(cscores)\n",
        "\n",
        "dfunc = dlf.predict(X)\n",
        "dscores = classification_report(Y,dfunc)\n",
        "print(dscores)\n",
        "\n",
        "efunc = elf.predict(X)\n",
        "escores = classification_report(Y,efunc)\n",
        "print(escores)\n",
        "\n",
        "ffunc = flf.predict(X)\n",
        "fscores = classification_report(Y,ffunc)\n",
        "print(fscores)\n",
        "\n",
        "gfunc = glf.predict(X)\n",
        "gscores = classification_report(Y,gfunc)\n",
        "print(gscores)\n",
        "\n",
        "hfunc = hlf.predict(X)\n",
        "hscores = classification_report(Y,hfunc)\n",
        "print(hscores)\n",
        "\n",
        "ifunc = ilf.predict(X)\n",
        "iscores = classification_report(Y,ifunc)\n",
        "print(iscores)\n",
        "\n",
        "\n",
        "\n",
        "\n"
      ],
      "metadata": {
        "colab": {
          "base_uri": "https://localhost:8080/"
        },
        "id": "EfVO_B43mP5e",
        "outputId": "2fc01a87-28c5-400b-d565-066ceb156f7a"
      },
      "execution_count": null,
      "outputs": [
        {
          "output_type": "stream",
          "name": "stderr",
          "text": [
            "/usr/local/lib/python3.8/dist-packages/sklearn/metrics/_classification.py:1318: UndefinedMetricWarning: Precision and F-score are ill-defined and being set to 0.0 in labels with no predicted samples. Use `zero_division` parameter to control this behavior.\n",
            "  _warn_prf(average, modifier, msg_start, len(result))\n",
            "/usr/local/lib/python3.8/dist-packages/sklearn/metrics/_classification.py:1318: UndefinedMetricWarning: Precision and F-score are ill-defined and being set to 0.0 in labels with no predicted samples. Use `zero_division` parameter to control this behavior.\n",
            "  _warn_prf(average, modifier, msg_start, len(result))\n",
            "/usr/local/lib/python3.8/dist-packages/sklearn/metrics/_classification.py:1318: UndefinedMetricWarning: Precision and F-score are ill-defined and being set to 0.0 in labels with no predicted samples. Use `zero_division` parameter to control this behavior.\n",
            "  _warn_prf(average, modifier, msg_start, len(result))\n",
            "/usr/local/lib/python3.8/dist-packages/sklearn/metrics/_classification.py:1318: UndefinedMetricWarning: Precision and F-score are ill-defined and being set to 0.0 in labels with no predicted samples. Use `zero_division` parameter to control this behavior.\n",
            "  _warn_prf(average, modifier, msg_start, len(result))\n",
            "/usr/local/lib/python3.8/dist-packages/sklearn/metrics/_classification.py:1318: UndefinedMetricWarning: Precision and F-score are ill-defined and being set to 0.0 in labels with no predicted samples. Use `zero_division` parameter to control this behavior.\n",
            "  _warn_prf(average, modifier, msg_start, len(result))\n",
            "/usr/local/lib/python3.8/dist-packages/sklearn/metrics/_classification.py:1318: UndefinedMetricWarning: Precision and F-score are ill-defined and being set to 0.0 in labels with no predicted samples. Use `zero_division` parameter to control this behavior.\n",
            "  _warn_prf(average, modifier, msg_start, len(result))\n"
          ]
        },
        {
          "output_type": "stream",
          "name": "stdout",
          "text": [
            "              precision    recall  f1-score   support\n",
            "\n",
            "           0       0.65      1.00      0.79       500\n",
            "           1       0.00      0.00      0.00       268\n",
            "\n",
            "    accuracy                           0.65       768\n",
            "   macro avg       0.33      0.50      0.39       768\n",
            "weighted avg       0.42      0.65      0.51       768\n",
            "\n",
            "              precision    recall  f1-score   support\n",
            "\n",
            "           0       0.65      1.00      0.79       500\n",
            "           1       0.00      0.00      0.00       268\n",
            "\n",
            "    accuracy                           0.65       768\n",
            "   macro avg       0.33      0.50      0.39       768\n",
            "weighted avg       0.42      0.65      0.51       768\n",
            "\n",
            "              precision    recall  f1-score   support\n",
            "\n",
            "           0       0.94      0.98      0.96       500\n",
            "           1       0.96      0.89      0.92       268\n",
            "\n",
            "    accuracy                           0.95       768\n",
            "   macro avg       0.95      0.93      0.94       768\n",
            "weighted avg       0.95      0.95      0.95       768\n",
            "\n",
            "              precision    recall  f1-score   support\n",
            "\n",
            "           0       0.99      1.00      1.00       500\n",
            "           1       1.00      0.99      0.99       268\n",
            "\n",
            "    accuracy                           0.99       768\n",
            "   macro avg       1.00      0.99      0.99       768\n",
            "weighted avg       0.99      0.99      0.99       768\n",
            "\n",
            "              precision    recall  f1-score   support\n",
            "\n",
            "           0       0.78      0.89      0.83       500\n",
            "           1       0.73      0.53      0.61       268\n",
            "\n",
            "    accuracy                           0.77       768\n",
            "   macro avg       0.75      0.71      0.72       768\n",
            "weighted avg       0.76      0.77      0.76       768\n",
            "\n",
            "              precision    recall  f1-score   support\n",
            "\n",
            "           0       0.80      0.91      0.85       500\n",
            "           1       0.77      0.57      0.66       268\n",
            "\n",
            "    accuracy                           0.79       768\n",
            "   macro avg       0.79      0.74      0.76       768\n",
            "weighted avg       0.79      0.79      0.78       768\n",
            "\n",
            "              precision    recall  f1-score   support\n",
            "\n",
            "           0       0.89      0.94      0.92       500\n",
            "           1       0.88      0.79      0.83       268\n",
            "\n",
            "    accuracy                           0.89       768\n",
            "   macro avg       0.89      0.87      0.88       768\n",
            "weighted avg       0.89      0.89      0.89       768\n",
            "\n",
            "              precision    recall  f1-score   support\n",
            "\n",
            "           0       0.99      1.00      1.00       500\n",
            "           1       1.00      0.99      0.99       268\n",
            "\n",
            "    accuracy                           1.00       768\n",
            "   macro avg       1.00      0.99      1.00       768\n",
            "weighted avg       1.00      1.00      1.00       768\n",
            "\n"
          ]
        }
      ]
    },
    {
      "cell_type": "code",
      "source": [
        "fpr_0, tpr_0,_ = roc_curve(Y, allresults[:,0], pos_label=0)\n",
        "roc_auc_0= roc_auc_score(Y, 1 - allresults[:,0])\n",
        "\n",
        "fpr_1,tpr_1,_ = roc_curve(Y, allresults[:,1], pos_label=1)\n",
        "roc_auc_1 = roc_auc_score(Y, allresults[:,1])\n",
        "\n",
        "print ('roc_auc_0: ', roc_auc_0)\n",
        "print ('roc_auc_1:' , roc_auc_1, '\\n')\n",
        "\n",
        "plt.plot(fpr_0, tpr_0, marker = '.', label= \"Class 0\", color ='b')\n",
        "plt.plot(fpr_1, tpr_1, marker ='.', label ='Class 1', color = 'r')\n",
        "\n",
        "plt.xlabel('False Positive Rate')\n",
        "plt.ylabel('True Positive Rate')\n",
        "plt.legend()\n",
        "plt.show()\n"
      ],
      "metadata": {
        "colab": {
          "base_uri": "https://localhost:8080/",
          "height": 331
        },
        "id": "gYt2CHp37tgJ",
        "outputId": "7d2125de-e744-445d-8e56-2992f7dcde77"
      },
      "execution_count": null,
      "outputs": [
        {
          "output_type": "stream",
          "name": "stdout",
          "text": [
            "roc_auc_0:  0.8456044776119402\n",
            "roc_auc_1: 0.8456044776119402 \n",
            "\n"
          ]
        },
        {
          "output_type": "display_data",
          "data": {
            "text/plain": [
              "<Figure size 432x288 with 1 Axes>"
            ],
            "image/png": "[encoded data removed]"
          },
          "metadata": {
            "needs_background": "light"
          }
        }
      ]
    },
    {
      "cell_type": "code",
      "source": [
        "#Using best RBF model\n",
        "\n",
        "rfbest = svm.SVC (kernel = 'rbf', C=1.0, gamma = 0.8, probability = True )\n",
        "rfbest.fit(X,Y)\n",
        "\n",
        "bestfunc = rfbest.predict(X)\n",
        "bestscores = classification_report(Y,bestfunc)\n",
        "print(bestscores)\n",
        "\n",
        "print (\"Number of support vectors in each class for rbf model is\", rfbest.n_support_)\n",
        "\n",
        "\n",
        "\n"
      ],
      "metadata": {
        "colab": {
          "base_uri": "https://localhost:8080/"
        },
        "id": "fXOSsfsXnpOt",
        "outputId": "efad3d00-4ae2-4fb9-b575-f0953529d109"
      },
      "execution_count": null,
      "outputs": [
        {
          "output_type": "stream",
          "name": "stdout",
          "text": [
            "              precision    recall  f1-score   support\n",
            "\n",
            "           0       0.93      0.97      0.95       500\n",
            "           1       0.94      0.87      0.90       268\n",
            "\n",
            "    accuracy                           0.93       768\n",
            "   macro avg       0.94      0.92      0.93       768\n",
            "weighted avg       0.93      0.93      0.93       768\n",
            "\n",
            "Number of support vectors in each class for rbf model is [335 259]\n"
          ]
        }
      ]
    },
    {
      "cell_type": "code",
      "source": [
        "# ROC curve\n",
        "\n",
        "probab = rfbest.predict_proba(X)\n",
        "\n",
        "fpr_0, tpr_0,_ = roc_curve(Y, probab[:,0], pos_label=0)\n",
        "roc_auc_0= roc_auc_score(Y, 1 - probab[:,0])\n",
        "\n",
        "fpr_1,tpr_1,_ = roc_curve(Y, probab[:,1], pos_label=1)\n",
        "roc_auc_1 = roc_auc_score(Y, probab[:,1])\n",
        "\n",
        "print ('roc_auc_0: ', roc_auc_0)\n",
        "print ('roc_auc_1:' , roc_auc_1, '\\n')\n",
        "\n",
        "plt.plot(fpr_0, tpr_0, marker = '.', label= \"Class 0\", color ='b')\n",
        "plt.plot(fpr_1, tpr_1, marker ='.', label ='Class 1', color = 'r')\n",
        "\n",
        "plt.xlabel('False Positive Rate')\n",
        "plt.ylabel('True Positive Rate')\n",
        "plt.legend()\n",
        "plt.show()\n"
      ],
      "metadata": {
        "colab": {
          "base_uri": "https://localhost:8080/",
          "height": 333
        },
        "id": "wO7cQcjBowy5",
        "outputId": "efc53dea-f2a8-4c0b-f837-dc5e6604edad"
      },
      "execution_count": null,
      "outputs": [
        {
          "output_type": "stream",
          "name": "stdout",
          "text": [
            "roc_auc_0:  0.9744701492537313\n",
            "roc_auc_1: 0.9744701492537313 \n",
            "\n"
          ]
        },
        {
          "output_type": "display_data",
          "data": {
            "text/plain": [
              "<Figure size 432x288 with 1 Axes>"
            ],
            "image/png": "[encoded data removed]"
          },
          "metadata": {
            "needs_background": "light"
          }
        }
      ]
    },
    {
      "cell_type": "code",
      "source": [
        "from sklearn.svm import SVC\n",
        "alf.fit(X, Y) \n",
        "print('w = ',alf.coef_)\n",
        "print('b = ',alf.intercept_)\n",
        "#print('Indices of support vectors = ', alf.support_)\n",
        "print('Support vectors = ', alf.support_vectors_)\n",
        "#print('Number of support vectors for each class = ', alf.n_support_)\n",
        "#print('Coefficients of the support vector in the decision function = ', np.abs(alf.dual_coef_))\n",
        "\n"
      ],
      "metadata": {
        "colab": {
          "base_uri": "https://localhost:8080/"
        },
        "id": "JjbbZrLRZ_Vv",
        "outputId": "11fa90da-7121-4ed7-b454-ca63a8cc54ca"
      },
      "execution_count": null,
      "outputs": [
        {
          "output_type": "stream",
          "name": "stdout",
          "text": [
            "w =  [[ 0.31612282  0.94050879 -0.09802498 -0.11835852 -0.05531679  0.54269961\n",
            "   0.67759449  0.09255996]]\n",
            "b =  [-0.99472769]\n",
            "Support vectors =  [[ 1.82781311 -0.21967262 -0.260103   ...  0.41467589  0.134\n",
            "  -0.36084741]\n",
            " [ 0.04601433 -0.38405874  1.63075046 ...  0.74942117  0.191\n",
            "  -0.27575966]\n",
            " [ 1.82781311  0.56938074  0.63967354 ... -0.77876382  1.441\n",
            "   2.02160968]\n",
            " ...\n",
            " [-0.84488505  0.20773128  1.30039148 ...  0.5893256   1.057\n",
            "   0.31985461]\n",
            " [-1.14185152  0.04334517 -0.0210444  ...  0.56021731  0.258\n",
            "   1.59617091]\n",
            " [-0.84488505  0.14197684 -1.01212132 ... -0.34213954  0.349\n",
            "   1.17073215]]\n"
          ]
        }
      ]
    },
    {
      "cell_type": "code",
      "source": [
        "def plot_svc_decision_function(alf, ax=None, plot_support=True):\n",
        "    \"\"\"Plot the decision function for a 2D SVC\"\"\"\n",
        "    if ax is None:\n",
        "        ax = plt.gca()\n",
        "    xlim = ax.get_xlim()\n",
        "    ylim = ax.get_ylim()\n",
        "    \n",
        "    # create grid to evaluate model\n",
        "    x = np.linspace(xlim[0], xlim[1], 30)\n",
        "    y = np.linspace(ylim[0], ylim[1], 30)\n",
        "    Y, X = np.meshgrid(y, x)\n",
        "    xy = np.vstack([X.ravel(), Y.ravel()]).T\n",
        "    P = alf.decision_function(xy).reshape(X.shape)\n",
        "    \n",
        "    # plot decision boundary and margins\n",
        "    ax.contour(X, Y, P, colors='k',\n",
        "               levels=[-1, 0, 1], alpha=0.5,\n",
        "               linestyles=['--', '-', '--'])\n",
        "    \n",
        "    # plot support vectors\n",
        "    if plot_support:\n",
        "        ax.scatter(alf.support_vectors_[:, 0],\n",
        "                   alf.support_vectors_[:, 1],\n",
        "                   s=300, linewidth=1, facecolors='none');\n",
        "    ax.set_xlim(xlim)\n",
        "    ax.set_ylim(ylim)\n"
      ],
      "metadata": {
        "id": "eC6AJzZga7Jn"
      },
      "execution_count": null,
      "outputs": []
    },
    {
      "cell_type": "code",
      "source": [
        "# from sklearn.svm import SVC\n",
        "# import numpy as np\n",
        "# import matplotlib.pyplot as plt\n",
        "# from sklearn import svm, datasets\n",
        "\n",
        "# alf = svm.SVC (kernel = 'linear', C=1000, probability = True)\n",
        "# alf.fit(X,Y)\n",
        "\n",
        "# def make_meshgrid(x, y, h=.02):\n",
        "#     x_min, x_max = x.min() - 1, x.max() + 1\n",
        "#     y_min, y_max = y.min() - 1, y.max() + 1\n",
        "#     xx, yy = np.meshgrid(np.arange(x_min, x_max, h), np.arange(y_min, y_max, h))\n",
        "#     return xx, yy\n",
        "\n",
        "# def plot_contours(ax, clf, xx, yy, **params):\n",
        "#     Z = clf.predict(np.c_[xx.ravel(), yy.ravel()])\n",
        "#     Z = Z.reshape(xx.shape)\n",
        "#     out = ax.contourf(xx, yy, Z, **params)\n",
        "#     return out\n",
        "\n",
        "# model = svm.SVC(kernel='linear', C=1000, probability = True)\n",
        "# clf = model.fit(X, Y)\n",
        "\n",
        "# fig, ax = plt.subplots()\n",
        "# # title for the plots\n",
        "# title = ('Decision surface of linear SVC ')\n",
        "# # Set-up grid for plotting.\n",
        "\n",
        "\n",
        "# #trying to convert df into an array to graph\n",
        "# X = df.iloc[:,:-1].values\n",
        "# Y = df.iloc[:,-1].values\n",
        "\n",
        "\n",
        "# X0, X1 = X[:, 0], X[:, 1]\n",
        "# xx, yy = make_meshgrid(X0, X1)\n",
        "\n",
        "# plot_contours(ax, clf, xx, yy, cmap=plt.cm.coolwarm, alpha=0.8)\n",
        "# ax.scatter(X0, X1, c=Y, cmap=plt.cm.coolwarm, s=20, edgecolors='k')\n",
        "# ax.set_ylabel('y label here')\n",
        "# ax.set_xlabel('x label here')\n",
        "# ax.set_xticks(())\n",
        "# ax.set_yticks(())\n",
        "# ax.set_title(title)\n",
        "# ax.legend()\n",
        "# plt.show()"
      ],
      "metadata": {
        "id": "xjR6VfrF6xU6"
      },
      "execution_count": 1,
      "outputs": []
    },
    {
      "cell_type": "code",
      "source": [
        "from sklearn.impute import SimpleImputer\n",
        "imputer = SimpleImputer(missing_values = np.nan, strategy = 'mean',verbose=0)\n",
        "imputer = imputer.fit(X.iloc[:, 1:3])\n",
        "X.iloc[:, 1:3] = imputer.transform(X.iloc[:, 1:3])"
      ],
      "metadata": {
        "id": "fndLYHND9r7R"
      },
      "execution_count": null,
      "outputs": []
    }
  ]
}